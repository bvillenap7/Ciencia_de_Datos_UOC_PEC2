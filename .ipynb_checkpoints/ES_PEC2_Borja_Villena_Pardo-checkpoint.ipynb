{
 "cells": [
  {
   "cell_type": "markdown",
   "metadata": {
    "id": "9UOcAzigFjm2"
   },
   "source": [
    "<div style=\"width: 100%; clear: both;\">\n",
    "    <div style=\"float: left; width: 50%;\">\n",
    "       <img src=\"http://www.uoc.edu/portal/_resources/common/imatges/marca_UOC/UOC_Masterbrand.jpg\", align=\"left\">\n",
    "    </div>\n",
    "</div>\n",
    "\n",
    "<div style=\"float: right; width: 50%;\">\n",
    "    <p style=\"margin: 0; text-align:right;\">22.503 · Programación para la ciencia de datos</p>\n",
    "    <p style=\"margin: 0; text-align:right;\">Grado en Ciencia de Datos Aplicada</p>\n",
    "    <p style=\"margin: 0; text-align:right; padding-button: 100px;\">Estudios de Informática, Multimedia y Telecomunicaciones</p>\n",
    "</div>\n",
    "\n",
    "</div>\n",
    "<div style=\"width: 100%; clear: both;\">\n",
    "<div style=\"width:100%;\"> </div>"
   ]
  },
  {
   "cell_type": "markdown",
   "metadata": {
    "id": "BtcIWG58Fjm3"
   },
   "source": [
    "Programación para la ciencia de datos - PEC2\n",
    "============================\n",
    "\n",
    "En este Notebook encontraréis un conjunto de ejercicios que conforman la segunda actividad de evaluación continua (PEC) de la asignatura.\n",
    "\n",
    "Para cada ejercicio, tened en cuenta que:  \n",
    "\n",
    "* **Es necesario incluir comentarios** de vuestro código, que expliquen cómo ha implementado la solución del problema planteado.  \n",
    "* **Es imprescindible** citar las referencias consultadas para realizar la actividad. Se valorará que el código proporcionado solucione el problema propuesto y también la calidad del código (comentarios, legibilidad, claridad, uso de las estructuras de datos adecuadas, buena nomenclatura de las variables y funciones, seguimiento del PEP8, etc. ).\n",
    "\n",
    "Vereis que cada una de las actividades tiene asociada una puntuación, que indica el peso que tiene la actividad sobre la nota de la PEC. Adicionalmente, existe una puntuación asociada a aspectos globales de la PEC (*docstring*, modularidad y estilo), que se evaluarán sobre la totalidad del código entregado.\n",
    "\n",
    "Además, todas las actividades tienen una etiqueta, que indica los recursos necesarios para llevarla a cabo. Hay tres posibles etiquetas:\n",
    "* <span style=\"font-family: Courier New; background-color: #82b74b; color: #000000; padding: 3px; \">SM</span>   **Sólo materiales**: las herramientas necesarias para realizar la actividad se pueden encontrar en los materiales de la asignatura (consideraremos también los materiales de la asignatura Fundamentos de Programación, así como las lecturas obligatorias de material externo que se indican en los notebooks).  \n",
    "* <span style=\"font-family: Courier New; background-color: #ffcc5c; color: #000000; padding: 3px; \">EG</span>**Consulta externa guiada**: la actividad puede requerir hacer uso de herramientas que no se encuentran en los materiales de la asignatura, pero el enunciado contiene indicaciones de dónde o cómo encontrar la información adicional necesaria para resolver la actividad.  \n",
    "* <span style=\"font-family: Courier New; background-color: #f2ae72; color: #000000; padding: 3px; \">EI</span>**Consulta externa independiente**: la actividad puede requerir hacer uso de herramientas que no se encuentran en los materiales de la asignatura, y el enunciado puede no incluir la descripción de dónde o cómo encontrar esta información adicional. Será necesario que el estudiante busque esta información utilizando los recursos que se han explicado en la asignatura.\n",
    "\n",
    "Es importante notar que estas etiquetas no indican el nivel de dificultad del ejercicio, sino únicamente la necesidad de consulta de documentación externa para su resolución. Además, recuerde que las **etiquetas son informativas**, pero puede consultar referencias externas siempre que lo desee (aunque no se indique explícitamente) o puede que pueda realizar una actividad sin consultar ningún tipo de documentación. Por ejemplo, para resolver una actividad que sólo requiera los materiales de la asignatura, puede consultar referencias externas si se desea, ya sea tanto para ayudar en la resolución como para ampliar conocimientos!\n",
    "\n",
    "---"
   ]
  },
  {
   "cell_type": "markdown",
   "metadata": {
    "id": "xWlh-oAFVXEx",
    "lang": "es"
   },
   "source": [
    "**Importante**: Además de la puntuación de cada ejercicio, que valora la calidad de la solución que propone y los resultados obtenidos, en esta PEC se valoran 3 aspectos adicionales, transversales a todas las actividades:\n",
    "\n",
    "***Documentación**(**0.25*f puntos**): Todas las funciones de los ejercicios de esta PEC deberán ser correctamente documentadas utilizando docstrings.\n",
    "\n",
    "***Modularidad**(**0.5*f puntos**): Se valorará la modularidad del código (la correcta estructuración del código en funciones).  \n",
    "\n",
    "***Estilo**(**0.25*f puntos**): El código debe seguir la guía de estilo de Python [PEP8](https://www.python.org/dev/peps/pep-0008/), exceptuando los casos en los que hacerlo complique la legibilidad del código.\n",
    "\n",
    "Donde $f$ es la fracción de la PEC realizada. Es decir, la nota de estos aspectos transversales será proporcional a la parte de la PEC realizada.\n",
    "\n",
    "Así, los aspectos transversales tendrán una puntuación máxima de 1 punto si se entregan todos los ejercicios de la PEC. De lo contrario, la nota de aspectos transversales se multiplicará por la fracción entregada de la PEC . Por ejemplo, si los aspectos transversales están puntuados con un 1 y sólo se ha hecho media PEC, la nota de los aspectos transversales será $1*0.5=0.5$.\n",
    "\n",
    "La nota de los aspectos transversales se considera incluida en las notas mencionadas para los ejercicios.\n",
    "\n",
    "\n",
    "---\n",
    "\n",
    "## Antes de empezar\n",
    "\n",
    "Por favor, leed atentamente los siguientes párrafos relativos a la originalidad en las actividades de la asignatura antes de empezar a trabajar en la PEC. Si teneis cualquier duda, consultad al profesor colaborador del aula antes de seguir con la actividad.\n",
    "\n",
    "<div class=\"alert alert-block alert-success\">La falta de originalidad se produce cuando en una actividad aparece contenido que no ha sido elaborado de forma individual por el estudiante y no se referencia adecuadamente su origen. O bien cuando, aunque el contenido externo esté referenciado, éste es tan extenso que no es posible considerar al estudiante el autor o autora de la actividad.\n",
    "<br /><br />\n",
    "Así, algunos ejemplos de comportamientos inadecuados son en lo que se refiere a la falta de originalidad son:\n",
    "<ol>\n",
    "    <li>Crear la solución de un ejercicio de la PEC en colaboración entre varios estudiantes.</li>\n",
    "    <li>Incluir un ejercicio de la PEC que utilice código encontrado en internet sin citar la fuente.</li>\n",
    "    <li>Compartir la solución de la PEC con otros estudiantes de la asignatura.</li>\n",
    "    </ol>\n",
    "</div>\n",
    "\n",
    "## Instrucciones de entrega\n",
    "\n",
    "Para entregar la actividad es necesario realizar los siguientes pasos:\n",
    "\n",
    "1. Comprobad que el notebook se ejecuta correctamente en google colab. Es importante que antes de entregar la PEC comprobéis que la versión final del código que se entrega se ejecuta correctamente en su totalidad. Para ello, recomendamos realizar una ejecución completa desde cero del notebook: haga click en *Runtime > Disconnect and Delete Runtime & Run All* y comprobeis que el notebook se ejecuta correctamente.\n",
    "2. Activad las alertas de estilo y comprobad que el código sigue las convenciones de estilo de Python. Si es necesario, modificad el código para adecuarlo.\n",
    "3. Confirma que eres el autor único de la PEC y que ésta incluye todas las citas a recursos externos que se hayan utilizado para elaborarla. Añade tu nombre completo al párrafo de la celda siguiente.\n",
    "4. Para esta PEC sólo será necesario entregar el archivo con el notebook (con extensión .ipynb). Nosotros añadiremos la carpeta \"data\".\n",
    "5. Entregad la PEC a través del aula: \"Actividades, Entrega de la actividad PEC1\".\n",
    "6. La carga del dataset debe hacerse usando **rutas relativas**, debe cargarse el archivo teniendo en cuenta que el notebook se encuentra en una carpeta que contiene la carpeta data con archivo de datos correspondiente."
   ]
  },
  {
   "cell_type": "markdown",
   "metadata": {
    "id": "VOMVKP40VXEy",
    "lang": "es"
   },
   "source": [
    "<div class=\"alert alert-block alert-warning\">Yo, *Nombre y Apellidos*, confirmo que he elaborado de manera individual todas las actividades resueltas en esta PEC y que he incluido las citas en todas las fuentes externas que he utilizado para resolver las actividades. </div>"
   ]
  },
  {
   "cell_type": "markdown",
   "metadata": {
    "id": "UNbr78C5VXEy",
    "lang": "es"
   },
   "source": [
    "---\n",
    "\n",
    "**NOTAS IMPORTANTES:**\n",
    "\n",
    "1) Durante la PEC contaréis con celdas de test para comprobar que los resultados de vuestro código son correctos. La intención de estas celdas es ayudaros a la resolución de la PEC, pero no se utilizarán directamente en la corrección. En algunos casos poco frecuentes, puede que algún código correcto no pase el test de la celda o que alguno incorrecto si que lo pase. Utilizad el sentido común y consultad a vuestro consultor si tenéis dudas.\n",
    "\n",
    "2) En varios puntos de la PEC se pide mostrar por pantalla alguna información o estructura de datos. Recordad formatear de forma correcta la salida en todos los casos.\n",
    "\n",
    "3) Es necesario resolver todos los ejercicios de la PEC evitando recorridos innecesarios de los datos y utilizando, en la medida de lo posible, programación funcional y haciendo un uso avanzado de funciones. **Para obtener la máxima puntuación en los ejercicios es necesario que el código siga estrictamente estos principios además de los aspectos transversales ya mencionados.**\n",
    "\n",
    "---"
   ]
  },
  {
   "cell_type": "code",
   "execution_count": null,
   "metadata": {
    "colab": {
     "base_uri": "https://localhost:8080/"
    },
    "executionInfo": {
     "elapsed": 24274,
     "status": "ok",
     "timestamp": 1701290338915,
     "user": {
      "displayName": "Borja Villena Pardo",
      "userId": "09774016295666824766"
     },
     "user_tz": -60
    },
    "id": "NYG3J61U42fT",
    "outputId": "1dc05c1d-2b90-487d-bff6-98917131dfd0"
   },
   "outputs": [
    {
     "name": "stdout",
     "output_type": "stream",
     "text": [
      "Requirement already satisfied: pycodestyle in /usr/local/lib/python3.10/dist-packages (2.9.1)\n",
      "Requirement already satisfied: pycodestyle_magic in /usr/local/lib/python3.10/dist-packages (0.5)\n",
      "Requirement already satisfied: flake8-nb in /usr/local/lib/python3.10/dist-packages (0.5.3)\n",
      "Requirement already satisfied: flake8<5.0.5,>=3.8.0 in /usr/local/lib/python3.10/dist-packages (from flake8-nb) (5.0.4)\n",
      "Requirement already satisfied: ipython>=7.8.0 in /usr/local/lib/python3.10/dist-packages (from flake8-nb) (7.34.0)\n",
      "Requirement already satisfied: nbconvert>=5.6.0 in /usr/local/lib/python3.10/dist-packages (from flake8-nb) (6.5.4)\n",
      "Requirement already satisfied: mccabe<0.8.0,>=0.7.0 in /usr/local/lib/python3.10/dist-packages (from flake8<5.0.5,>=3.8.0->flake8-nb) (0.7.0)\n",
      "Requirement already satisfied: pycodestyle<2.10.0,>=2.9.0 in /usr/local/lib/python3.10/dist-packages (from flake8<5.0.5,>=3.8.0->flake8-nb) (2.9.1)\n",
      "Requirement already satisfied: pyflakes<2.6.0,>=2.5.0 in /usr/local/lib/python3.10/dist-packages (from flake8<5.0.5,>=3.8.0->flake8-nb) (2.5.0)\n",
      "Requirement already satisfied: setuptools>=18.5 in /usr/local/lib/python3.10/dist-packages (from ipython>=7.8.0->flake8-nb) (67.7.2)\n",
      "Requirement already satisfied: jedi>=0.16 in /usr/local/lib/python3.10/dist-packages (from ipython>=7.8.0->flake8-nb) (0.19.1)\n",
      "Requirement already satisfied: decorator in /usr/local/lib/python3.10/dist-packages (from ipython>=7.8.0->flake8-nb) (4.4.2)\n",
      "Requirement already satisfied: pickleshare in /usr/local/lib/python3.10/dist-packages (from ipython>=7.8.0->flake8-nb) (0.7.5)\n",
      "Requirement already satisfied: traitlets>=4.2 in /usr/local/lib/python3.10/dist-packages (from ipython>=7.8.0->flake8-nb) (5.7.1)\n",
      "Requirement already satisfied: prompt-toolkit!=3.0.0,!=3.0.1,<3.1.0,>=2.0.0 in /usr/local/lib/python3.10/dist-packages (from ipython>=7.8.0->flake8-nb) (3.0.41)\n",
      "Requirement already satisfied: pygments in /usr/local/lib/python3.10/dist-packages (from ipython>=7.8.0->flake8-nb) (2.16.1)\n",
      "Requirement already satisfied: backcall in /usr/local/lib/python3.10/dist-packages (from ipython>=7.8.0->flake8-nb) (0.2.0)\n",
      "Requirement already satisfied: matplotlib-inline in /usr/local/lib/python3.10/dist-packages (from ipython>=7.8.0->flake8-nb) (0.1.6)\n",
      "Requirement already satisfied: pexpect>4.3 in /usr/local/lib/python3.10/dist-packages (from ipython>=7.8.0->flake8-nb) (4.8.0)\n",
      "Requirement already satisfied: lxml in /usr/local/lib/python3.10/dist-packages (from nbconvert>=5.6.0->flake8-nb) (4.9.3)\n",
      "Requirement already satisfied: beautifulsoup4 in /usr/local/lib/python3.10/dist-packages (from nbconvert>=5.6.0->flake8-nb) (4.11.2)\n",
      "Requirement already satisfied: bleach in /usr/local/lib/python3.10/dist-packages (from nbconvert>=5.6.0->flake8-nb) (6.1.0)\n",
      "Requirement already satisfied: defusedxml in /usr/local/lib/python3.10/dist-packages (from nbconvert>=5.6.0->flake8-nb) (0.7.1)\n",
      "Requirement already satisfied: entrypoints>=0.2.2 in /usr/local/lib/python3.10/dist-packages (from nbconvert>=5.6.0->flake8-nb) (0.4)\n",
      "Requirement already satisfied: jinja2>=3.0 in /usr/local/lib/python3.10/dist-packages (from nbconvert>=5.6.0->flake8-nb) (3.1.2)\n",
      "Requirement already satisfied: jupyter-core>=4.7 in /usr/local/lib/python3.10/dist-packages (from nbconvert>=5.6.0->flake8-nb) (5.5.0)\n",
      "Requirement already satisfied: jupyterlab-pygments in /usr/local/lib/python3.10/dist-packages (from nbconvert>=5.6.0->flake8-nb) (0.2.2)\n",
      "Requirement already satisfied: MarkupSafe>=2.0 in /usr/local/lib/python3.10/dist-packages (from nbconvert>=5.6.0->flake8-nb) (2.1.3)\n",
      "Requirement already satisfied: mistune<2,>=0.8.1 in /usr/local/lib/python3.10/dist-packages (from nbconvert>=5.6.0->flake8-nb) (0.8.4)\n",
      "Requirement already satisfied: nbclient>=0.5.0 in /usr/local/lib/python3.10/dist-packages (from nbconvert>=5.6.0->flake8-nb) (0.9.0)\n",
      "Requirement already satisfied: nbformat>=5.1 in /usr/local/lib/python3.10/dist-packages (from nbconvert>=5.6.0->flake8-nb) (5.9.2)\n",
      "Requirement already satisfied: packaging in /usr/local/lib/python3.10/dist-packages (from nbconvert>=5.6.0->flake8-nb) (23.2)\n",
      "Requirement already satisfied: pandocfilters>=1.4.1 in /usr/local/lib/python3.10/dist-packages (from nbconvert>=5.6.0->flake8-nb) (1.5.0)\n",
      "Requirement already satisfied: tinycss2 in /usr/local/lib/python3.10/dist-packages (from nbconvert>=5.6.0->flake8-nb) (1.2.1)\n",
      "Requirement already satisfied: parso<0.9.0,>=0.8.3 in /usr/local/lib/python3.10/dist-packages (from jedi>=0.16->ipython>=7.8.0->flake8-nb) (0.8.3)\n",
      "Requirement already satisfied: platformdirs>=2.5 in /usr/local/lib/python3.10/dist-packages (from jupyter-core>=4.7->nbconvert>=5.6.0->flake8-nb) (4.0.0)\n",
      "Requirement already satisfied: jupyter-client>=6.1.12 in /usr/local/lib/python3.10/dist-packages (from nbclient>=0.5.0->nbconvert>=5.6.0->flake8-nb) (6.1.12)\n",
      "Requirement already satisfied: fastjsonschema in /usr/local/lib/python3.10/dist-packages (from nbformat>=5.1->nbconvert>=5.6.0->flake8-nb) (2.19.0)\n",
      "Requirement already satisfied: jsonschema>=2.6 in /usr/local/lib/python3.10/dist-packages (from nbformat>=5.1->nbconvert>=5.6.0->flake8-nb) (4.19.2)\n",
      "Requirement already satisfied: ptyprocess>=0.5 in /usr/local/lib/python3.10/dist-packages (from pexpect>4.3->ipython>=7.8.0->flake8-nb) (0.7.0)\n",
      "Requirement already satisfied: wcwidth in /usr/local/lib/python3.10/dist-packages (from prompt-toolkit!=3.0.0,!=3.0.1,<3.1.0,>=2.0.0->ipython>=7.8.0->flake8-nb) (0.2.10)\n",
      "Requirement already satisfied: soupsieve>1.2 in /usr/local/lib/python3.10/dist-packages (from beautifulsoup4->nbconvert>=5.6.0->flake8-nb) (2.5)\n",
      "Requirement already satisfied: six>=1.9.0 in /usr/local/lib/python3.10/dist-packages (from bleach->nbconvert>=5.6.0->flake8-nb) (1.16.0)\n",
      "Requirement already satisfied: webencodings in /usr/local/lib/python3.10/dist-packages (from bleach->nbconvert>=5.6.0->flake8-nb) (0.5.1)\n",
      "Requirement already satisfied: attrs>=22.2.0 in /usr/local/lib/python3.10/dist-packages (from jsonschema>=2.6->nbformat>=5.1->nbconvert>=5.6.0->flake8-nb) (23.1.0)\n",
      "Requirement already satisfied: jsonschema-specifications>=2023.03.6 in /usr/local/lib/python3.10/dist-packages (from jsonschema>=2.6->nbformat>=5.1->nbconvert>=5.6.0->flake8-nb) (2023.11.1)\n",
      "Requirement already satisfied: referencing>=0.28.4 in /usr/local/lib/python3.10/dist-packages (from jsonschema>=2.6->nbformat>=5.1->nbconvert>=5.6.0->flake8-nb) (0.31.0)\n",
      "Requirement already satisfied: rpds-py>=0.7.1 in /usr/local/lib/python3.10/dist-packages (from jsonschema>=2.6->nbformat>=5.1->nbconvert>=5.6.0->flake8-nb) (0.13.0)\n",
      "Requirement already satisfied: pyzmq>=13 in /usr/local/lib/python3.10/dist-packages (from jupyter-client>=6.1.12->nbclient>=0.5.0->nbconvert>=5.6.0->flake8-nb) (23.2.1)\n",
      "Requirement already satisfied: python-dateutil>=2.1 in /usr/local/lib/python3.10/dist-packages (from jupyter-client>=6.1.12->nbclient>=0.5.0->nbconvert>=5.6.0->flake8-nb) (2.8.2)\n",
      "Requirement already satisfied: tornado>=4.1 in /usr/local/lib/python3.10/dist-packages (from jupyter-client>=6.1.12->nbclient>=0.5.0->nbconvert>=5.6.0->flake8-nb) (6.3.2)\n"
     ]
    }
   ],
   "source": [
    "# instalemos guia estilo\n",
    "!pip install pycodestyle pycodestyle_magic\n",
    "!pip install flake8-nb\n",
    "%load_ext pycodestyle_magic"
   ]
  },
  {
   "cell_type": "code",
   "execution_count": null,
   "metadata": {
    "id": "yofc-P1143Z7"
   },
   "outputs": [],
   "source": [
    "# activemos guia estilo\n",
    "%pycodestyle_on"
   ]
  },
  {
   "cell_type": "code",
   "execution_count": null,
   "metadata": {
    "colab": {
     "base_uri": "https://localhost:8080/",
     "height": 107
    },
    "executionInfo": {
     "elapsed": 1739,
     "status": "ok",
     "timestamp": 1701290340647,
     "user": {
      "displayName": "Borja Villena Pardo",
      "userId": "09774016295666824766"
     },
     "user_tz": -60
    },
    "id": "2NJfzCE2BEzA",
    "outputId": "99b573e6-99ea-48bd-8679-8c9732e55da4"
   },
   "outputs": [
    {
     "name": "stdout",
     "output_type": "stream",
     "text": [
      "Drive already mounted at /content/drive; to attempt to forcibly remount, call drive.mount(\"/content/drive\", force_remount=True).\n",
      "/content\n",
      "/content\n"
     ]
    },
    {
     "data": {
      "application/vnd.google.colaboratory.intrinsic+json": {
       "type": "string"
      },
      "text/plain": [
       "'\\nfrom google.colab import files\\nfiles.upload()\\n'"
      ]
     },
     "execution_count": 3,
     "metadata": {},
     "output_type": "execute_result"
    },
    {
     "name": "stderr",
     "output_type": "stream",
     "text": [
      "INFO:pycodestyle:4:6: E225 missing whitespace around operator\n",
      "INFO:pycodestyle:15:1: W391 blank line at end of file\n"
     ]
    }
   ],
   "source": [
    "# Montamos Drive\n",
    "from google.colab import drive\n",
    "drive.mount('/content/drive')\n",
    "%cd /content/\n",
    "!pwd\n",
    "\n",
    "# Subimos archivo original.zip a ruta \\content para agilizar los tiempos de\n",
    "# ejecución de las funciónes que se van a definir a lo largo de la PEC,\n",
    "# siguiendo los consejos expuestos por el profesorado en el foro de Anuncios\n",
    "# de la asignatura. Para ello hemos ejecutado el siguiente código:\n",
    "'''\n",
    "from google.colab import files\n",
    "files.upload()\n",
    "'''\n"
   ]
  },
  {
   "cell_type": "code",
   "execution_count": null,
   "metadata": {
    "colab": {
     "base_uri": "https://localhost:8080/"
    },
    "executionInfo": {
     "elapsed": 393,
     "status": "ok",
     "timestamp": 1701290341031,
     "user": {
      "displayName": "Borja Villena Pardo",
      "userId": "09774016295666824766"
     },
     "user_tz": -60
    },
    "id": "iC_3R-gOBOFg",
    "outputId": "367d7231-b087-4bef-cc10-a785039e64f2"
   },
   "outputs": [
    {
     "name": "stderr",
     "output_type": "stream",
     "text": [
      "INFO:pycodestyle:1:80: E501 line too long (89 > 79 characters)\n",
      "INFO:pycodestyle:2:6: E225 missing whitespace around operator\n",
      "INFO:pycodestyle:2:80: E501 line too long (104 > 79 characters)\n",
      "INFO:pycodestyle:3:1: E265 block comment should start with '# '\n",
      "INFO:pycodestyle:3:80: E501 line too long (105 > 79 characters)\n"
     ]
    }
   ],
   "source": [
    "# Copy the original from your drive into the colab machine, to make file handling faster.\n",
    "%cp /content/drive/MyDrive/Colab_Notebooks/Programación_Ciencia_de_Datos/activity_2/data/original.zip ./\n",
    "#%cp /content/drive/MyDrive/Colab_Notebooks/Programación_Ciencia_de_Datos/activity_2/data/original.zip ./"
   ]
  },
  {
   "cell_type": "markdown",
   "metadata": {
    "id": "Kf-gyPCBVXEz",
    "lang": "es"
   },
   "source": [
    "# Ejercicio 1\n",
    "\n",
    "Responded si son Ciertas o Falsas las siguientes preguntas y razonad brevemente vuestra respuesta:\n",
    "\n",
    "<span style=\"font-family: Courier New; background-color: #82b74b; color: #000000; padding: 3px; \">NM</span> **(1 punto)**"
   ]
  },
  {
   "cell_type": "markdown",
   "metadata": {
    "id": "oSCBTllQkR9H"
   },
   "source": []
  },
  {
   "cell_type": "markdown",
   "metadata": {
    "id": "nzcnU7uwVXE0",
    "lang": "es"
   },
   "source": [
    "*(a) Para utilizar una variable global dentro de una función es necesario utilizar la sentencia \"nonlocal\".*"
   ]
  },
  {
   "cell_type": "markdown",
   "metadata": {
    "id": "B4UdzWs-VXE0",
    "lang": "es"
   },
   "source": [
    "**Respuesta:**\n",
    "\n",
    "Esta afirmación **es Falsa**. Para utilizar una variable global dentro de una función, basta con llamar a dicha variable dentro de la función.\n",
    "\n",
    "<p>En los casos en los que se definan funciones dentro de otras funciones, <code>nonlocal</code> nos permitirá referirnos a una variable definida en un ámbito superior no global. </p>\n",
    "\n",
    "***Ver el siguiente código con ejemplos:***\n",
    "\n",
    "\n",
    "\n",
    "\n",
    "\n",
    "\n",
    "\n",
    "\n",
    "\n",
    "\n"
   ]
  },
  {
   "cell_type": "code",
   "execution_count": null,
   "metadata": {
    "colab": {
     "base_uri": "https://localhost:8080/"
    },
    "executionInfo": {
     "elapsed": 10,
     "status": "ok",
     "timestamp": 1701290341032,
     "user": {
      "displayName": "Borja Villena Pardo",
      "userId": "09774016295666824766"
     },
     "user_tz": -60
    },
    "id": "hqUThBZSeR3z",
    "outputId": "bdbefe93-2407-42e7-daaa-4ee913aea008"
   },
   "outputs": [
    {
     "name": "stdout",
     "output_type": "stream",
     "text": [
      "x = 3\n",
      "z_global = 2\n",
      "z_local = 5\n",
      "z_local_2 = 7\n",
      "z_local_ámbito_superior = 5\n"
     ]
    }
   ],
   "source": [
    "# Autor: Borja Villena Pardo\n",
    "# Ejemplo de cómo usar una variable global dentro de una función:\n",
    "# Definimos una variable global x con valor 3\n",
    "\n",
    "x = 3\n",
    "\n",
    "# Creamos la función test() que imprimirá la variable global x\n",
    "\n",
    "\n",
    "def test():\n",
    "    print('x =', x)\n",
    "\n",
    "\n",
    "test()\n",
    "\n",
    "\n",
    "# -----------------------------------------------------------------------------\n",
    "# Ejemplo de cómo usar 'nonlocal'\n",
    "\n",
    "# Definimos la variable global z con valor 2\n",
    "\n",
    "z = 2\n",
    "print('z_global =', z)\n",
    "\n",
    "\n",
    "# Creamos la función test_2() que creará la variable local z con valor 5\n",
    "\n",
    "def test_2():\n",
    "    z = 5\n",
    "    print('z_local =', z)\n",
    "\n",
    "    # Definimos función funcion_intermedia() dentro de la función test_2()\n",
    "    def funcion_intermedia():\n",
    "        # Creamos una nueva variable local también llamada z con valor 7\n",
    "        z = 7\n",
    "        # Imprimimos z\n",
    "        print('z_local_2 =', z)\n",
    "\n",
    "    # Definimos función usar_nonlocal() dentro de la función test_2()\n",
    "    def usar_nonlocal():\n",
    "        nonlocal z\n",
    "        # Imprimimos z, que nos tendrá que devolver el valor de z de un ámbito\n",
    "        # superior, es decir z = 5.\n",
    "        print('z_local_ámbito_superior =', z)\n",
    "\n",
    "        # Como podemos comprobar, si z realmente llamase a la variable global,\n",
    "        # debería de devolvernos el valor de z = 2, en vez de z = 5.\n",
    "\n",
    "    funcion_intermedia()\n",
    "    usar_nonlocal()\n",
    "\n",
    "\n",
    "test_2()"
   ]
  },
  {
   "cell_type": "markdown",
   "metadata": {
    "id": "_JA4cEFTVXE0",
    "lang": "es"
   },
   "source": [
    "*(b) Consideramos una variable \"float_var\" que contiene valores de tipo real.\n",
    "\n",
    "Una función que tenga por última línea\n",
    "\n",
    "print(float_var)\n",
    "\n",
    "devolverá un valor de tipo string. .*"
   ]
  },
  {
   "cell_type": "markdown",
   "metadata": {
    "id": "4XpIqf2PVXE0",
    "lang": "es"
   },
   "source": [
    "**Respuesta:**\n",
    "\n",
    "Esta afirmación **es Falsa**, al imprimir dentro de una función una variable que contiene valores reales nos devolverá <code> class 'float'</code>. En el caso de que definamos una variable a partir de la función, nos devolverá <code> class 'Nonetype'</code>, aunque la variable dentro de la función seguirá siendo <code> class 'float'</code>.\n",
    "\n",
    "**A continuación codificamos los diferentes casos a los que nos referimos:**\n",
    "\n"
   ]
  },
  {
   "cell_type": "code",
   "execution_count": null,
   "metadata": {
    "colab": {
     "base_uri": "https://localhost:8080/"
    },
    "executionInfo": {
     "elapsed": 8,
     "status": "ok",
     "timestamp": 1701290341032,
     "user": {
      "displayName": "Borja Villena Pardo",
      "userId": "09774016295666824766"
     },
     "user_tz": -60
    },
    "id": "wxyq9WEdsi2a",
    "outputId": "c77ac0b8-0bfe-4246-aa06-5778a89eb2cd"
   },
   "outputs": [
    {
     "name": "stdout",
     "output_type": "stream",
     "text": [
      "La variable float_var2 = 3.5 es de tipo <class 'float'>\n",
      "La variable float_var3 = 2.5 es de tipo <class 'float'>\n",
      "La función test_1b es de tipo <class 'function'>\n",
      "La variable float_var1 = 1.5 es de tipo <class 'float'>\n",
      "La variable float_var4 = 4.5 es de tipo <class 'float'>\n",
      "La variable var_funcion definida a partir de la funcion test_1b_2 es de tipo <class 'NoneType'>\n"
     ]
    }
   ],
   "source": [
    "# Autor: Borja Villena Pardo\n",
    "float_var1 = 1.5\n",
    "\n",
    "\n",
    "def test_1b(float_var2):\n",
    "    float_var3 = 2.5\n",
    "    print(f'La variable float_var2 =', float_var2, 'es de tipo',\n",
    "          type(float_var2))\n",
    "    print(f'La variable float_var3 =', float_var3, 'es de tipo',\n",
    "          type(float_var3))\n",
    "    print(f'La función test_1b es de tipo', type(test_1b))\n",
    "    print(f'La variable float_var1 =', float_var1, 'es de tipo',\n",
    "          type(float_var1))\n",
    "\n",
    "# Llamamos a la función\n",
    "\n",
    "\n",
    "test_1b(3.5)\n",
    "\n",
    "\n",
    "def test_1b_2(float_var4):\n",
    "    print(f'La variable float_var4 =', float_var4, 'es de tipo',\n",
    "          type(float_var4))\n",
    "\n",
    "\n",
    "var_funcion = test_1b_2(4.5)\n",
    "\n",
    "print(f'La variable var_funcion definida a partir de la funcion test_1b_2 es',\n",
    "      'de tipo', type(var_funcion))"
   ]
  },
  {
   "cell_type": "markdown",
   "metadata": {
    "id": "d9nbYns_VXE0",
    "lang": "es"
   },
   "source": [
    "*(c) Las funciones de Python se pueden pasar como parámetros y ser devueltas por otras funciones*."
   ]
  },
  {
   "cell_type": "markdown",
   "metadata": {
    "id": "tI0TIIuQVXE0",
    "lang": "es"
   },
   "source": [
    "**Respuesta:**\n",
    "\n",
    "Esta afirmación **es Correcta**. <br>\n",
    "\n",
    "Tal y como podemos ver indicado en el apartado ***2.3.4*** - ***1.3.4*** del temario, se nos facilita un ejemplo en el que una función recibe como parámetros una función y una lista, y lo que hace es evaluar dicha fucnión sobre la lista.\n",
    "\n",
    "**A continuación mostramos un ejemplo similar sencillo:**\n"
   ]
  },
  {
   "cell_type": "code",
   "execution_count": null,
   "metadata": {
    "colab": {
     "base_uri": "https://localhost:8080/"
    },
    "executionInfo": {
     "elapsed": 7,
     "status": "ok",
     "timestamp": 1701290341032,
     "user": {
      "displayName": "Borja Villena Pardo",
      "userId": "09774016295666824766"
     },
     "user_tz": -60
    },
    "id": "2LIMKfLM4u0I",
    "outputId": "64c05469-b902-4bb0-a318-e0fc3d834f69"
   },
   "outputs": [
    {
     "name": "stdout",
     "output_type": "stream",
     "text": [
      "La función usada como parámetro es <built-in function sum> y el resultados es 3\n",
      "\n"
     ]
    }
   ],
   "source": [
    "# Autor: Borja Villena Pardo\n",
    "# Definimos una función que recibe otra función como parámetro para aplicarla\n",
    "# sobre los valores del segundo parámetro.\n",
    "\n",
    "\n",
    "def funcion_par(f, a):\n",
    "    f_a = f(a)\n",
    "    print(f'La función usada como parámetro es', f, 'y el resultados es', f_a)\n",
    "    return ''\n",
    "\n",
    "\n",
    "ejemplo = funcion_par(sum, [1, 1, 1])\n",
    "\n",
    "\n",
    "print(ejemplo)"
   ]
  },
  {
   "cell_type": "markdown",
   "metadata": {
    "id": "Pkpb1QtxVXE0",
    "lang": "es"
   },
   "source": [
    "(d) Si abrimos un archivo utilizando el modo `w+` mantendremos el contenido del archivo y se generará un error si el archivo no existe."
   ]
  },
  {
   "cell_type": "markdown",
   "metadata": {
    "id": "6LIiA6v_VXE0",
    "lang": "es"
   },
   "source": [
    "**Respuesta:**\n",
    "\n",
    "Esta afirmación **es Falsa**.\n",
    "\n",
    "Cuando abrimos un documento en modo <code>w+</code> si el archivo no existe creará uno nuevo, y en el caso de que el archivo ya exista, se eliminará y será sustituido por el nuevo.\n",
    "\n",
    "**A continuación mostramos un ejemplo:**\n",
    "\n"
   ]
  },
  {
   "cell_type": "code",
   "execution_count": null,
   "metadata": {
    "colab": {
     "base_uri": "https://localhost:8080/"
    },
    "executionInfo": {
     "elapsed": 429,
     "status": "ok",
     "timestamp": 1701290341457,
     "user": {
      "displayName": "Borja Villena Pardo",
      "userId": "09774016295666824766"
     },
     "user_tz": -60
    },
    "id": "3WEpjaBa-yu-",
    "outputId": "a8faf0a2-f28d-4d44-f772-40a764f1ce61"
   },
   "outputs": [
    {
     "name": "stdout",
     "output_type": "stream",
     "text": [
      "['README.md', 'testDF.csv', 'original.zip', 'carpeta_test', 'size_decompressed', 'df32.csv', 'df32.gsheet', 'archivo_new.txt', 'fullDF.csv', 'city_pathtriangle.txt', 'Directorio_df31', 'Directorio_df32', 'Directorio_df33']\n",
      "Contenido del archivo: hola mundo\n",
      "Contenido del archivo modificado: Archivo modificado\n"
     ]
    }
   ],
   "source": [
    "# Autor: Borja Villena Pardo\n",
    "# Fuentes consultadas: //es.stackoverflow.com ;\n",
    "# //docs.python.org/es/3.10/library/os.html#dir-fd\n",
    "\n",
    "# Cambiamos de directorio usando la librería os\n",
    "import os\n",
    "os.chdir(os.path.dirname(\n",
    "    '/content/drive/MyDrive/Colab_Notebooks/Programación_Ciencia_de_Datos/'\n",
    "    'activity_2/data/'))\n",
    "\n",
    "\n",
    "# Comprobamos que estamos en el directorio correcto\n",
    "print(os.listdir())\n",
    "\n",
    "\n",
    "# Creamos un archivo nuevo con el modo w+\n",
    "with open('archivo_new.txt', 'w+') as archivo_new:\n",
    "    # Escribimos 'hola mundo' en el archivo\n",
    "    archivo_new.write('hola mundo')\n",
    "\n",
    "\n",
    "# Leemos el contenido del archivo que hemos creado\n",
    "with open('archivo_new.txt', 'r') as archivo_new:\n",
    "    contenido = archivo_new.read()\n",
    "    print('Contenido del archivo:', contenido)\n",
    "\n",
    "\n",
    "# Abrimos de nuevo el archivo con w+ para comprobar que el archivo anterior\n",
    "# será eliminado y sustituido con la información del nuevo archivo.\n",
    "\n",
    "\n",
    "with open('archivo_new.txt', 'w+') as archivo_new:\n",
    "    archivo_new.write('Archivo modificado')\n",
    "\n",
    "# Leemos el contenido del archivo de nuevo\n",
    "with open('archivo_new.txt', 'r') as archivo_new:\n",
    "    contenido = archivo_new.read()\n",
    "    print('Contenido del archivo modificado:', contenido)"
   ]
  },
  {
   "cell_type": "markdown",
   "metadata": {
    "id": "ZnCfcvS5VXE0",
    "lang": "es"
   },
   "source": [
    "## Ejercicio 2\n",
    "\n",
    "Dadas noticias recientes insinuando que algunos gobiernos ocultan secretos sobre posibles artefactos extraterrestres, el jefe de la empresa de data science donde trabajáis ha decidido crear un proyecto de \"fact finding\" sobre el tema. Como primer resultado, otros miembros del equipo han conseguido recopilar información sobre avistamientos de OVNIs en Estados Unidos entre 1969 y 2021. Desgraciadamente, estos compañeros no habían cursado esta asignatura y la organización de datos que han hecho no es suficientemente buena.\n",
    "\n",
    "En este ejercicio utilizaremos los conocimientos sobre gestión de ficheros y programación funcional que estamos aprendiendo para leer la estructura de carpetas existente y transformarla en un dataframe de pandas. En un ejercicio posterior consideraremos otra estructura de archivos que el jefe considera mejor y guardaremos los datos. Durante todo el proceso, estaremos particularmente atentos al espacio ocupado por los archivos.\n",
    "\n",
    "Hemos recibido los datos en forma de un solo archivo comprimido llamado **original.zip**.\n",
    "\n",
    "## 2.1\n",
    "\n",
    "Dado que nos interesa el tamaño que los distintos archivos y carpetas ocupan en memoria, es necesario que **creéis una función para medir el tamaño en archivos o carpetas**. Es necesario que esta función ejecute correctamente tanto si le pasamos la ruta de un archivo como de un directorio. **Descomprimid también el archivo original.zip por código**. **La función debe retornar el tamaño en Megabytes**.\n",
    "\n",
    "Como prueba, medid el tamaño del archivo **original.zip** y de la estructura de carpetas que se obtiene al descomprimirlo.\n",
    "\n",
    "\n",
    "## 2.2\n",
    "\n",
    "Como veréis, la estructura tiene una serie de carpetas con archivos dentro.\n",
    "\n",
    "En concreto:\n",
    "\n",
    "\n",
    "```\n",
    "<original>\n",
    "    <state_code1>\n",
    "        <city_name1>\n",
    "            shape1.txt\n",
    "            shape2.txt\n",
    "            ...\n",
    "            shapeN.txt\n",
    "        <city_name2>\n",
    "        ...\n",
    "    <state_code2>\n",
    "    ...\n",
    "        \n",
    "```\n",
    "\n",
    "dónde:\n",
    "\n",
    "- El directorio raíz (llamado \"original\") contiene una subcarpeta para cada estado de Estados Unidos donde se han detectado avistamientos.\n",
    "- **state_code** es un código de dos letras para cada uno de los estados de Estados Unidos (por ejemplo CA representa California o AL Alabama).\n",
    "- Dentro de la carpeta de cada estado existe una carpeta **city_name** con el nombre de cada ciudad donde se han detectado avistamientos. Por ejemplo \"Chicago\".\n",
    "- Dentro de cada carpeta de ciudad, habrá un archivo de texto para cada tipo de objeto avistado. Por ejemplo, \"circle.txt\", \"cylinder.txt\" o \"cigar.txt\".\n",
    "- En cada línea de cada archivo encontrará información (separada por punto y coma \";\" referente a los siguientes conceptos):\n",
    "\n",
    "summary;date_time;duration;text;city_latitude;city_longitude\n",
    "\n",
    "- Los nombres de estos conceptos no aparecen en los archivos, quedan implícitos por el orden en cada línea. Cada archivo tendrá al menos una línea, pero puede que tenga más.\n",
    "\n",
    "**Cread una función que reciba como entrada un string con la ruta a una carpeta (conteniendo una estructura como la mencionada) y devuelva un diccionario** con el siguiente formato:\n",
    "\n",
    "- Las claves del diccionario serán enteros representando el orden en el que se ha encontrado cada una de las líneas de cada uno de los archivos \"shapei.txt\" mencionados anteriormente. Dependiendo de la implementación puede que leais los archivos en orden diferente.\n",
    "\n",
    "- El valor asociado a cada clave será, en sí mismo, un diccionario con una clave para cada uno de los siguientes conceptos: summary,city,state,date_time,shape,duration,text,city_latitude,city_longitude y el valor asociado a cada clave según consta en el archivo que se está leyendo.\n",
    "\n",
    "**Ejemplo:**\n",
    "\n",
    "En caso de que hubiéramos leído como primer archivo \"disk.txt\" dentro de la carpeta \"IL\" y subcarpeta \"Chicago\", que contiene como primera línea:\n",
    "\n",
    "\"Silver metallic disc observed at Roseland little league baseball field.;1982-06-19 15:00:00;45 seconds;Silver metallic disc observed at Roseland little league baseball field. On a clear...to tell my  story.;41.8841229180932;-87.6674748940178\"\n",
    "\n",
    "Entonces el diccionario daría a esta entrada la clave \"0\" (primera posición en la secuencia) y tendría, por tanto, como pareja (clave, valor):\n",
    "\n",
    "(0, {'summary': 'Silver metallic disc observed at Roseland little league baseball field.',\n",
    "  'city': 'Chicago',\n",
    "  'state': 'IL',\n",
    "  'date_time': '1982-06-19 15:00:00',\n",
    "  'shape': 'disk',\n",
    "  'duration': '45 seconds',\n",
    "  'text': \"Silver metallic disc observed at Roseland little league baseball field. On a clear...to tell my  story.\",\n",
    "  'city_latitude': '41.8841229180932',\n",
    "  'city_longitude': '-87.6674748940178'})\n",
    "\n",
    "Notad que parte de la información (shape, city, state) la hemos obtenido de la estructura de directorios y el resto del archivo \"disk.txt\". Notad también que hemos omitido parte del campo \"text\" para mejorar la legibilidad de la PEC.\n",
    "\n",
    "**importante** Para resolver este apartado (2.2) **No se puede utilizar la librería Pandas.** Su uso resultará en la pérdida de toda la puntuación del apartado.\n",
    "\n",
    "## 2.3\n",
    "\n",
    "- Convertid el diccionario obtenido en un dataframe de pandas.\n",
    "- Guardad este dataframe en un archivo en formato \".csv\" llamado **fullDF.csv**.\n",
    "- Mostrad por pantalla las 10 primeras entradas de este dataframe.\n",
    "- Medid y mostrad por pantalla el tamaño del archivo **fullDF.csv**.\n",
    "- Comparad las diferencias en tamaño entre \"original.zip\", la carpeta descomprimida y \"fullDF.csv\" utilizando la función del ejercicio 2.1. ¿Cuál ocupa menos espacio. Dado que los tres contienen esencialmente la misma información, ¿cuál es el motivo? Repetid el ejercicio pero ahora hacedlo midiendo el espacio en disco que da el sistema operativo. ¿Existen diferencias? ¿Por qué? Responded a estas preguntas en un pequeño párrafo de texto(<10 lineas).\n",
    "\n",
    "**Nota:** Para saber los tamaños de archivos \"en el sistema operativo\" lo más fácil es que copiéis los archivos y carpetas a vuestro drive y los descarguéis para medirlos con las herramientas de vuestro sistema. Esta parte se considerará \"extra\" y se puede obtener la máxima puntuación en la PEC sin resolverla.\n",
    "\n",
    "<span style=\"font-family: Courier New; background-color: #82b74b; color: #000000; padding: 3px; \">NM</span> **(4 puntos)**"
   ]
  },
  {
   "cell_type": "markdown",
   "metadata": {
    "id": "t4o-QJ1_VXE0",
    "lang": "es"
   },
   "source": [
    "**Solución**"
   ]
  },
  {
   "cell_type": "code",
   "execution_count": null,
   "metadata": {
    "colab": {
     "base_uri": "https://localhost:8080/"
    },
    "executionInfo": {
     "elapsed": 13279,
     "status": "ok",
     "timestamp": 1701290354725,
     "user": {
      "displayName": "Borja Villena Pardo",
      "userId": "09774016295666824766"
     },
     "user_tz": -60
    },
    "id": "HQsK1hT_Fjm6",
    "outputId": "8fc4f1b3-2d89-4217-cc3e-bee7a7ac8054"
   },
   "outputs": [
    {
     "name": "stdout",
     "output_type": "stream",
     "text": [
      "['.config', 'Directorio_df33', 'size_decompressed', 'original.zip', 'Directorio_df31', 'drive', 'Directorio_df32', 'sample_data']\n",
      "\n",
      "Vamos a calcular tamaño de archivo original.zip\n",
      "\n",
      "Partiendo de la ruta base:\n",
      "\n",
      " /content\n",
      "\n",
      "escribe la ruta relativa del archivo o carpeta de la que quieres saber su tamaño:\n",
      "\n",
      "\t-Si quieres saber el tamaño del archivo original.zip, escribe: original.zip\n",
      "\t-Si quieres saber el tamaño del repositorio de carpetas surgido tras descomprimir el archivo, escribe: size_decompressed\n",
      "\t-Si quieres saber el tamaño de fullDF.csv, escribe: fullDF.csv\n",
      "\n",
      "original.zip\n",
      "\n",
      "/content/original.zip\n",
      "Tamaño Megabytes: 62.18 MB; bytes: 65198828 B\n",
      "\n",
      "\n",
      "Vamos a calcular tamaño de repositorio size_decompressed\n",
      "\n",
      "Partiendo de la ruta base:\n",
      "\n",
      " /content\n",
      "\n",
      "escribe la ruta relativa del archivo o carpeta de la que quieres saber su tamaño:\n",
      "\n",
      "\t-Si quieres saber el tamaño del archivo original.zip, escribe: original.zip\n",
      "\t-Si quieres saber el tamaño del repositorio de carpetas surgido tras descomprimir el archivo, escribe: size_decompressed\n",
      "\t-Si quieres saber el tamaño de fullDF.csv, escribe: fullDF.csv\n",
      "\n",
      "size_decompressed\n",
      "\n",
      "/content/size_decompressed\n",
      "Tamaño Megabytes: 111.42 MB; bytes: 116833181 B\n"
     ]
    }
   ],
   "source": [
    "# Borja Villena Pardo\n",
    "# Fuentes consultadas: //docs.python.org/es/3.10/library/os.html ;\n",
    "# //obsbusiness.school ; //es.stackoverflow.com ; //chat.openai.com ;\n",
    "# //www.delftstack.com ; //google.com\n",
    "# Importamos librería necesaria zipfile\n",
    "from zipfile import ZipFile\n",
    "\n",
    "# Cambiamos de directorio usando la librería os, así evitamos tener que\n",
    "# acceder al disco drive y conseguimos que los tiempos de ejecución de la\n",
    "# función sean más rápidos.\n",
    "os.chdir(os.path.dirname('/content/'))\n",
    "print(os.listdir())\n",
    "\n",
    "\n",
    "# Definimos lista_com donde vamos a ir añadiendo los resultados obtenidos en\n",
    "# Megabytes de cada vez que se llama a la funcion que vamos a crear en este\n",
    "# apartado\n",
    "lista_com = []\n",
    "\n",
    "\n",
    "# Definimos la función\n",
    "\n",
    "\n",
    "def medir_size():\n",
    "\n",
    "    \"\"\"\n",
    "    Mide el tamaño en Megabytes de un archivo o directorio que se encuentre\n",
    "    en una ruta relativa que pertenezca a la ruta base: \\n\\n\n",
    "    /content/'\n",
    "\n",
    "    \"\"\"\n",
    "    ruta_base = os.getcwd()\n",
    "    ruta = input(f'Partiendo de la ruta base:\\n\\n {ruta_base}\\n\\n'\n",
    "                 'escribe la ruta relativa del archivo o carpeta de la que '\n",
    "                 'quieres saber su tamaño:\\n\\n\\t-Si quieres saber el tamaño '\n",
    "                 'del archivo original.zip, escribe: original.zip\\n\\t-Si '\n",
    "                 'quieres saber el tamaño del repositorio de carpetas surgido '\n",
    "                 'tras descomprimir el archivo, escribe: size_decompressed\\n\\t'\n",
    "                 '-Si quieres saber el tamaño de fullDF.csv, escribe: '\n",
    "                 'fullDF.csv\\n\\n')\n",
    "\n",
    "    print()\n",
    "    ruta_abs = os.path.abspath(os.path.join(ruta_base, ruta))\n",
    "    print(ruta_abs)\n",
    "    total_bytes = 0\n",
    "    if os.path.isfile(ruta_abs):\n",
    "        total_bytes = os.stat(ruta_abs).st_size\n",
    "    elif os.path.isdir(ruta_abs):\n",
    "        for dirpath, _, filenames in os.walk(ruta_abs):\n",
    "            for filename in filenames:\n",
    "                filepath = os.path.join(dirpath, filename)\n",
    "                total_bytes += os.stat(filepath).st_size\n",
    "\n",
    "    total_megabytes = round((total_bytes / (1024 * 1024)), 2)\n",
    "    global lista_com\n",
    "    lista_com.append([ruta, total_megabytes])\n",
    "    print(f'Tamaño Megabytes: {total_megabytes} MB; bytes: {total_bytes} B')\n",
    "    return total_megabytes\n",
    "\n",
    "\n",
    "print('\\nVamos a calcular tamaño de archivo original.zip\\n')\n",
    "size_original = medir_size()\n",
    "\n",
    "\n",
    "# Descomprimimos archivo original.zip en la carpeta llamada size_decompressed\n",
    "# en el supuesto de que no se haya ya realizado con anterioridad.\n",
    "if not os.path.exists('../content/size_decompressed'):\n",
    "    with ZipFile('../content/original.zip', 'r') as zip:\n",
    "        zip.extractall('../content/size_decompressed')\n",
    "        print('Archivo descomprimido en repositorio size_decompressed')\n",
    "\n",
    "print('\\n\\nVamos a calcular tamaño de repositorio size_decompressed\\n')\n",
    "size_decompressed = medir_size()\n",
    "# Test Cell, Public\n",
    "assert 61.8 <= size_original <= 62.4, \"Wrong Size for original file.\"\n",
    "\n",
    "assert 111 <= size_decompressed <= 112, \"Wrong Size for decompressed folder.\""
   ]
  },
  {
   "cell_type": "code",
   "execution_count": 19,
   "metadata": {
    "colab": {
     "base_uri": "https://localhost:8080/"
    },
    "executionInfo": {
     "elapsed": 14088,
     "status": "ok",
     "timestamp": 1701292663678,
     "user": {
      "displayName": "Borja Villena Pardo",
      "userId": "09774016295666824766"
     },
     "user_tz": -60
    },
    "id": "6mOn8Eb1Fjm7",
    "outputId": "51b1a2ad-9677-460f-9eb8-644f6d19542d"
   },
   "outputs": [
    {
     "name": "stdout",
     "output_type": "stream",
     "text": [
      "Partiendo de la ruta base:\n",
      "\n",
      " /content\n",
      "\n",
      "escribe la ruta relativa del repositorio que quieres analizar para construir el diccionario:\n",
      "\n",
      "\t-Si quieres usar el repositorio de carpetas surgido tras descomprimir el archivo original.zip, escribe:  /content/size_decompressed/original \n",
      "\n",
      "/content/size_decompressed/original\n"
     ]
    }
   ],
   "source": [
    "# Borja Villena Pardo\n",
    "# Fuentes consultadas: //docs.python.org ; //chat.openai.com ;\n",
    "# //adictosaltrabajo.com ; //micro.recursospython.com ; //aula.uoc.edu ;\n",
    "# //github.com ; //google.com\n",
    "# Importamos librerías necesarias\n",
    "import random as ra\n",
    "\n",
    "# Creamos diccionario global\n",
    "myDict = {}\n",
    "\n",
    "\n",
    "# Desactivamos guía de estilo porque nos está reportando un fallo interno\n",
    "%pycodestyle_off\n",
    "\n",
    "\n",
    "# Creamos la función que nos piden\n",
    "def diccionario():\n",
    "    \"\"\"Esta función recibe como entrada un string con la ruta a una carpeta\n",
    "    y devuelve un diccionario con el siguiente formato:\n",
    "\n",
    "    Las claves del diccionario serán enteros representando el orden en el que\n",
    "    se ha encontrado cada una de las líneas de cada uno de los archivos.\n",
    "\n",
    "    El valor asociado a cada clave será, en sí mismo, un diccionario con una\n",
    "    clave para cada uno de los siguientes conceptos:\n",
    "    summary, city, state, date_time, shape, duration, text,c ity_latitude,\n",
    "    city_longitude y el valor asociado a cada clave según consta en el archivo\n",
    "    que se está leyendo.\n",
    "    \"\"\"\n",
    "    # Definimos la ruta base\n",
    "    ruta_base = os.getcwd()\n",
    "    # Solicitamos la ruta relativa\n",
    "    ruta = input(f'Partiendo de la ruta base:\\n\\n {ruta_base}\\n\\n'\n",
    "                 'escribe la ruta relativa del repositorio que quieres '\n",
    "                 'analizar para construir el diccionario:'\n",
    "                 '\\n\\n\\t-Si quieres usar '\n",
    "                 'el repositorio de carpetas surgido tras descomprimir'\n",
    "                 ' el archivo original.zip, escribe: '\n",
    "                 ' /content/size_decompressed/original \\n\\n')\n",
    "    # ruta : /content/size_decompressed/original'\n",
    "\n",
    "    # Utilizamos diccionario global creado previamente\n",
    "    global myDict\n",
    "    ord_linea = 0\n",
    "    # Usamos loops for anidados con funciones lógicas para obtener la\n",
    "    # información requerida del repositorio e ir formando el diccionario\n",
    "    for state in os.listdir(ruta):\n",
    "        ruta_state = os.path.join(ruta, state)\n",
    "\n",
    "        if os.path.isdir(ruta_state):\n",
    "            for city in os.listdir(ruta_state):\n",
    "                ruta_city = os.path.join(ruta_state, city)\n",
    "\n",
    "                if os.path.isdir(ruta_city):\n",
    "                    for archivo in os.listdir(ruta_city):\n",
    "                        ruta_archivo = os.path.join(ruta_city, archivo)\n",
    "\n",
    "                        with open(ruta_archivo, 'r') as archivo_txt:\n",
    "                            lineas = archivo_txt.readlines()\n",
    "\n",
    "                            for i in lineas:\n",
    "                                datos = i.strip().split(';')\n",
    "\n",
    "                                # Construimos el diccionario \"valor\" de nuestro\n",
    "                                # diccionario global myDict\n",
    "\n",
    "                                myDict_valor = {}\n",
    "\n",
    "                                # Agregamos toda la información y le\n",
    "                                # damos orden\n",
    "                                myDict_valor = {\n",
    "                                    'summary': datos[0],\n",
    "                                    'city' : city,\n",
    "                                    'state' : state,\n",
    "                                    'date_time': datos[1],\n",
    "                                    'shape' : archivo.split('.')[0],\n",
    "                                    'duration': datos[2],\n",
    "                                    'text': datos[3],\n",
    "                                    'city_latitude': datos[4],\n",
    "                                    'city_longitude': datos[5]\n",
    "                                }\n",
    "\n",
    "\n",
    "                                # Agregamos llave myDict_Valor para completar\n",
    "                                # myDict\n",
    "                                myDict[ord_linea] = myDict_valor\n",
    "                                ord_linea += 1\n",
    "\n",
    "    return myDict\n",
    "\n",
    "\n",
    "myDict = diccionario()\n",
    "\n",
    "\n",
    "# Test Cell, Public\n",
    "dict_size = len(myDict)\n",
    "\n",
    "rand_val_s1 = ra.randint(0, dict_size-1)\n",
    "rand_val_s2 = ra.randint(0, dict_size-1)\n",
    "\n",
    "assert dict_size == 101207, \" Incorrect number of entries.\"\n",
    "assert len(myDict[0]) == len(myDict[dict_size-1]) == 9, \\\n",
    "  \" Incorrect number of entries.\""
   ]
  },
  {
   "cell_type": "code",
   "execution_count": null,
   "metadata": {
    "colab": {
     "base_uri": "https://localhost:8080/"
    },
    "executionInfo": {
     "elapsed": 22373,
     "status": "ok",
     "timestamp": 1701290409577,
     "user": {
      "displayName": "Borja Villena Pardo",
      "userId": "09774016295666824766"
     },
     "user_tz": -60
    },
    "id": "uRgbcJzHYWoB",
    "outputId": "8d53fcb1-e1bf-48d6-add3-8ca80325ef8a"
   },
   "outputs": [
    {
     "name": "stdout",
     "output_type": "stream",
     "text": [
      "                                             summary       city state  \\\n",
      "0  Outside in a small wyoming town with little to...    Douglas    WY   \n",
      "1  2 of my friends and I were standing on my balc...    Douglas    WY   \n",
      "2  Bright orange lights appear in remote Wyoming ...    Douglas    WY   \n",
      "3  First I would like to say I don't want anyone ...    Douglas    WY   \n",
      "4  17 ships in triangular formation moving south ...  Meeteetse    WY   \n",
      "5  a fireball went straight down behind mtns. and...    Rawlins    WY   \n",
      "6  I was sitting in my hot tub looking at the sky...    Rawlins    WY   \n",
      "7  This object has been in the NE sky for over an...    Rawlins    WY   \n",
      "8  Looking E, a ball of light, bigger than Jupite...    Rawlins    WY   \n",
      "9  Brown saucer-shaped object with dome on top fl...    Rawlins    WY   \n",
      "\n",
      "             date_time     shape     duration  \\\n",
      "0  2020-04-18 22:30:00   unknown   45 minutes   \n",
      "1  2017-10-15 20:15:00    sphere    3 minutes   \n",
      "2  2007-06-24 00:30:00     light   30 minutes   \n",
      "3  2021-04-27 09:20:00     light   20 seconds   \n",
      "4  2013-07-11 23:00:00     light    7 minutes   \n",
      "5  1999-08-15 23:18:00  fireball      1-2 sec   \n",
      "6  2006-10-13 20:30:00  triangle       30 sec   \n",
      "7  2016-10-19 20:30:00     light  1.5 hours +   \n",
      "8  2019-07-28 22:30:00     light    3 minutes   \n",
      "9  2000-06-19 13:00:00      disk    3 seconds   \n",
      "\n",
      "                                                text city_latitude  \\\n",
      "0  Outside in a small wyoming town with little to...       42.7615   \n",
      "1  2 of my friends and I were standing on my balc...       42.7615   \n",
      "2  Bright orange lights appear in remote Wyoming ...       42.7615   \n",
      "3  First I would like to say I don't want anyone ...       42.7615   \n",
      "4  17 ships in triangular formation moving south ...       44.1946   \n",
      "5  a fireball went straight down behind mtns. and...       41.7963   \n",
      "6  I was sitting in my hot tub looking at the sky...       41.7963   \n",
      "7  This object has been in the north east sky for...       41.7963   \n",
      "8  Looking East, a ball of light, bigger than Jup...       41.7963   \n",
      "9  Brown saucer-shaped object with dome on top fl...       41.7963   \n",
      "\n",
      "  city_longitude  \n",
      "0      -105.3952  \n",
      "1      -105.3952  \n",
      "2      -105.3952  \n",
      "3      -105.3952  \n",
      "4      -108.9489  \n",
      "5       -107.239  \n",
      "6       -107.239  \n",
      "7       -107.239  \n",
      "8       -107.239  \n",
      "9       -107.239  \n",
      "\n",
      "\n",
      "Vamos a calcular tamaño del archivo csv fullDF.csv\n",
      "\n",
      "Partiendo de la ruta base:\n",
      "\n",
      " /content/drive/MyDrive/Colab_Notebooks/Programación_Ciencia_de_Datos/activity_2/data\n",
      "\n",
      "escribe la ruta relativa del archivo o carpeta de la que quieres saber su tamaño:\n",
      "\n",
      "\t-Si quieres saber el tamaño del archivo original.zip, escribe: original.zip\n",
      "\t-Si quieres saber el tamaño del repositorio de carpetas surgido tras descomprimir el archivo, escribe: size_decompressed\n",
      "\t-Si quieres saber el tamaño de fullDF.csv, escribe: fullDF.csv\n",
      "\n",
      "fullDF.csv\n",
      "\n",
      "/content/drive/MyDrive/Colab_Notebooks/Programación_Ciencia_de_Datos/activity_2/data/fullDF.csv\n",
      "Tamaño Megabytes: 113.58 MB; bytes: 119092931 B\n",
      "\n",
      "\n",
      "A continuación mostramos los resultados de cada llamada que hemos realizado a nuestra función \n",
      "\n",
      " [['original.zip', 62.18], ['size_decompressed', 111.42], ['fullDF.csv', 113.58]]\n",
      "\n",
      "Como podemos  observar el archivo.csv tiene un peso menor que original.zip, que a su vez es aún menor que size_decompressed\n",
      "\n",
      "\n",
      "\n",
      "Tamañano en disco:\n",
      "\n",
      " [['original.zip', 62.1], ['size_decompressed', 205], ['fullDF.csv', 17.7]]\n"
     ]
    }
   ],
   "source": [
    "# Borja Villena Pardo\n",
    "# Fuentes consultadas: //docs.python.org ; //pandas.pydata.org ;\n",
    "# //adictosaltrabajo.com ; //chat.openai.com ; //micro.recursospython.com ;\n",
    "# //github.com ; //google.com ; //aula.uoc.edu\n",
    "\n",
    "# Importamos librerías necesarias\n",
    "import pandas as pd\n",
    "from google.colab import files\n",
    "\n",
    "# Activamos de nuevo la guía de estilo\n",
    "%pycodestyle_on\n",
    "\n",
    "\n",
    "# Convertimos nuestro diccionario en un DataFrame dónde las key son row y los\n",
    "# valores son columns\n",
    "df_mydict = pd.DataFrame().from_dict(myDict, orient=\"index\")\n",
    "\n",
    "\n",
    "# Cambiamos de directorio usando la librería os, para guardar posteriormente\n",
    "# el nuevo archivo csv en la carpeta data\n",
    "os.chdir(os.path.dirname(\n",
    "    '/content/drive/MyDrive/Colab_Notebooks/Programación_Ciencia_de_Datos/'\n",
    "    'activity_2/data/'))\n",
    "\n",
    "\n",
    "# Guardamos el DataFrame en el archivo fullDF.csv y lo vamos a ubicar en\n",
    "# ../Programación_Ciencia_de_Datos/activity_2/data/\n",
    "df_mydict.to_csv('fullDF.csv', header=False, index=False)\n",
    "\n",
    "\n",
    "# Mostramos las diez primeras filas del DataFrame\n",
    "print(df_mydict.head(10))\n",
    "\n",
    "\n",
    "# Medimos el tamaño del nuevo archivo csv creado\n",
    "print('\\n\\nVamos a calcular tamaño del archivo csv fullDF.csv\\n')\n",
    "fullDF_size = medir_size()\n",
    "\n",
    "\n",
    "# Vamos a comparar los valores entre 'original.zip', 'size_decompressed' y\n",
    "# fullDF.csv que hemos guardado en la lista_com que ha ido recogiendo todos\n",
    "# los resultados obtenidos al ir ejecutando la funcion medir_size()\n",
    "\n",
    "print('\\n\\nA continuación mostramos los resultados de cada llamada que hemos'\n",
    "      f' realizado a nuestra función \\n\\n {lista_com}\\n\\nComo podemos ',\n",
    "      'observar el archivo.csv tiene un peso menor que original.zip, '\n",
    "      'que a su vez es aún menor que size_decompressed\\n\\n')\n",
    "\n",
    "# Descargamos en nuestro sistema los tres archivos que hemos medido con\n",
    "# nuestra función, para ello ejecutaríamos el siguiente código\n",
    "'''\n",
    "files.download(\"original.zip\")\n",
    "files.download(\"size_decompressed\")\n",
    "files.download(\"fullDF.csv\")\n",
    "'''\n",
    "\n",
    "\n",
    "# Comprobamos los tamaños en disco de los archivos y obtenemos los\n",
    "# siguientes resultados\n",
    "\n",
    "size_in_disk = [['original.zip', 62.1], ['size_decompressed', 205],\n",
    "                ['fullDF.csv', 17.7]]\n",
    "print('\\nTamañano en disco:\\n\\n', size_in_disk)"
   ]
  },
  {
   "cell_type": "markdown",
   "metadata": {
    "id": "H7Hbm5ES1Xbq"
   },
   "source": [
    "***Las diferencias en tamaño entre \"original.zip\", la carpeta descomprimida y \"fullDF.csv\" se deben a la forma en que se almacena la información en cada formato. El archivo \"original.zip\" es un archivo comprimido que ocupa menos espacio en disco al utilizar algoritmos de compresión. Sin embargo, al descomprimirlo en la carpeta \"size_decompressed\", el tamaño aumenta porque se han expandido los archivos comprimidos.***\n",
    "\n",
    "***Aunque el archivo \"fullDF.csv\" contenga la misma información, su peso es notablemente menor que los otros dos. Esto se debe a que los archivos CSV son archivos de texto sin formato que almacenan datos tabulares.***\n",
    "\n",
    "***Al medir el espacio en disco del sistema operativo, podemos ver similitudes en lo que respecto a los pesos de los archivos. Sin embargo, el tamaño de \"size_decompressed\" en el sistema operativo es mayor que su tamaño original. Esto se debe al proceso de expansión de los archivos durante su descompresión. En resumen, las diferencias en tamaño dependerá de las propiedades de compresión y formato de los archivos.***"
   ]
  },
  {
   "cell_type": "markdown",
   "metadata": {
    "id": "HllLSDKHVXE0",
    "lang": "es"
   },
   "source": [
    "# Ejercicio 3\n",
    "\n",
    "En este ejercicio utilizaremos el dataframe construido en el ejercicio anterior para realizar diversas búsquedas en nuestros datos. Además, volveremos a convertir el data frame en otra estructura de archivos y veremos si el resultado mejora el uso del espacio de disco que hemos observado.\n",
    "\n",
    "**NOTA** Os recomendamos resolver primero completamente el ejercicio 2 antes de intentar el ejercicio 3. En todo caso, disponeis de un pequeño archivo llamado **testDF.csv**. Donde podeis ver una muestra del tipo de registros que debe contener el dataframe resultado del ejercicio 2.\n",
    "\n",
    "En primer lugar, necesitamos explicitar el año de cada avistamiento:\n",
    "\n",
    "\n",
    "# 3.1\n",
    "\n",
    "Añadid una columna \"year\" al dataframe creado en el ejercicio 2 que contenga el año en que aconteció el avistamiento.\n",
    "\n",
    "\n",
    "# 3.2\n",
    "\n",
    "El jefe de la empresa os dice que sabe a ciencia cierta que sólo parte de las entradas del dataframe son evidencia indiscutible de presencia extraterrestas: En concreto deben cumplir, que el campo \"text\" contenga, a la vez:\n",
    "\n",
    "- Dos palabras **consecutivas**, la primera que empieze por E y la segunda por T (en mayúsculas)\n",
    "- Tres palabras **consecutivas**, la primera que empieze por U, la segunda por F y la tercera por O (en este caso, las letras iniciales pueden ser mayúsculas o minúsculas indistintamente)\n",
    "\n",
    "Por ejemplo, el texto\n",
    "\n",
    "\"...En Tierra las celebraciones son siempre un festival Olímpico, aunque llueve poco...\"\n",
    "\n",
    "Cumpliría ambas condiciones.\n",
    "\n",
    "Por el contrario, los textos\n",
    "\n",
    "\"...En la Tierra las celebraciones son siempre un festival Olímpico, aunque llueve poco...\"\n",
    "\n",
    "\"...En tierra las celebraciones son siempre un festival Olímpico, aunque llueve poco...\"\n",
    "\n",
    "\"...En Tierra las celebraciones son siempre un festival de color, aunque llueve poco...\"\n",
    "\n",
    "No lo cumpliría dado que: en el primer caso y el segundo no hay dos palabras consecutivas que empiecen por E y T. En el primer caso las palabras no son consecutivas y en el segundo la E y la T no son ambas mayúsculas. En el tercer caso, si bien la primera condición se cumple, la segunda no.\n",
    "\n",
    "**Utilizando expresiones regulares**, cread un nuevo dataframe (y llamádlo \"df32\") que contenga sólo las líneas que cumplan a la vez las dos condiciones mencionadas.\n",
    "\n",
    "\n",
    "# 3.3\n",
    "\n",
    "Por motivos de espacio puede ser necesario reducir la información que se guarda para cada registro. Partiendo del dataframe resultado del ejercicio 3.1, cread un nuevo dataframe llamado \"df33\", en el que habrá eliminado la columna \"text\".\n",
    "\n",
    "\n",
    "# 3.4\n",
    "\n",
    "Cread una funcion que reciba como entrada un string con la ruta a una carpeta y un dataframe y:\n",
    "\n",
    "\n",
    "**1) cree un diccionario como el que se detalla a continuación**:\n",
    "\n",
    "- Las claves del diccionario serán enteros representando el orden en el que cada entrada aparece en el dataframe (index).\n",
    "\n",
    "- El valor asociado a cada clave será, en sí mismo, un diccionario con una clave para cada uno de los siguientes conceptos:\n",
    "\n",
    "summary,city,state,date_time,shape,duration,text,city_latitude,city_longitude, year\n",
    "\n",
    "y el valor de cada clave según consta en el dataframe el archivo que se está leyendo.\n",
    "\n",
    "**Pista: Este parte del ejercicio se puede resolver con una solo instrucción de la librería pandas**\n",
    "\n",
    "**2) Recorred todas las entradas del diccionario y construid una nueva estructura de ficheros tal y como se detalla a continuación***\n",
    "\n",
    "- El directorio raíz contendrá una subcarpeta para cada año donde se haya producido un avistamiento, dentro de la carpeta de cada año habrá carpetas para todos los estados donde haya habido avistamientos y dentro de la carpeta de cada estado tendremos una carpeta para cada ciudad en la que haya habido avistamientos. Dentro de cada carpeta de ciudad, habrá un archivo de texto para cada tipo de objeto avistado. Por ejemplo, \"circle.txt\", \"cylinder.txt\" o \"cigar.txt\".\n",
    "\n",
    "```\n",
    "<root_folder>\n",
    "    <year1>\n",
    "        <state_code1>\n",
    "            <city_name1>\n",
    "                shape1.txt\n",
    "                shape2.txt\n",
    "                ...\n",
    "                shapeN.txt\n",
    "            <city_name2>\n",
    "            ...\n",
    "        <state_code2>\n",
    "        ...\n",
    "    <year2>\n",
    "    ...\n",
    "            \n",
    "```\n",
    "\n",
    "- En cada línea de cada fichero deberá escribirse la información referente a los siguientes conceptos (separados por punto y coma \";\" ):\n",
    "\n",
    "summary;date_time;duration;text;city_latitude;city_longitude\n",
    "\n",
    "- Los nombres de estos conceptos no aparecerán en los archivos y quedarán implícitos en el orden en cada línea. Cada archivo tendrá al menos una línea, pero puede que tenga más.\n",
    "\n",
    "- En caso de que un concepto no aparezca en un dataframe (por ejemplo \"text\" en uno de los casos que os pediremos), ignoradlo en la lista de conceptos.\n",
    "\n",
    "**Ejecutad la funcion creada con los dataframes resultado de los apartados 3.1, 3.2, 3.3.**\n",
    "\n",
    "\n",
    "# 3.5\n",
    "\n",
    "- Medid y mostrad por pantalla el tamaño de las tres carpetas resultado del apartado 3.3. Y guardadlas en tres variables llamadas \"size_31\", \"size_32\", \"size_33\".\n",
    "- Comparad las diferencias entre estas los tamaños de estas 3 carpetas, y el de la carpeta descomprimida \"original\" según las mide la funcion del apartado 2.1 y según las devuelve vuestro sistema operativo y comentad los resultados en un pequeño párrafo de texto (<10 linies).\n",
    "\n",
    "**Nota:** Para saber los tamaños de archivos \"en el sistema operativo\" lo más fácil es que copiéis los archivos y carpetas a vuestro drive y los descarguéis para medirlos con las herramientas de vuestro sistema. Esta parte se considerará \"extra\" y se puede obtener la máxima puntuación en la PEC sin resolverla.\n",
    "\n",
    "<span style=\"font-family: Courier New; background-color: #ffcc5c; color: #000000; padding: 3px; \">EG</span> **(5 puntos)**"
   ]
  },
  {
   "cell_type": "markdown",
   "metadata": {
    "id": "jZe-dzZeVXE1",
    "lang": "es"
   },
   "source": [
    "**SOLUCIÓN**"
   ]
  },
  {
   "cell_type": "code",
   "execution_count": null,
   "metadata": {
    "colab": {
     "base_uri": "https://localhost:8080/"
    },
    "executionInfo": {
     "elapsed": 35965,
     "status": "ok",
     "timestamp": 1701290445537,
     "user": {
      "displayName": "Borja Villena Pardo",
      "userId": "09774016295666824766"
     },
     "user_tz": -60
    },
    "id": "9l_xgUx8Fjm8",
    "outputId": "cb954521-af6a-4e3f-9d8f-a27d62797ae4",
    "scrolled": true
   },
   "outputs": [
    {
     "name": "stdout",
     "output_type": "stream",
     "text": [
      "['.config', 'Directorio_df33', 'size_decompressed', 'original.zip', 'Directorio_df31', 'drive', 'Directorio_df32', 'sample_data']\n",
      "/content/Directorio_df31\n",
      "Tamaño Megabytes: 1003.66 MB; bytes: 1052408700 B\n",
      "/content/Directorio_df32\n",
      "Tamaño Megabytes: 0.26 MB; bytes: 273060 B\n",
      "/content/Directorio_df33\n",
      "Tamaño Megabytes: 124.37 MB; bytes: 130409325 B\n"
     ]
    }
   ],
   "source": [
    "# Borja Villena Pardo\n",
    "# Fuentes consultadas: //docs.python.org/es/3/library/datetime.html ;\n",
    "# //docs.python.org/es/3/howto/regex.html ; //platzi.com/blog/\n",
    "# //analyticslane.com ; //pandas.pydata.org  ;\n",
    "# //docs.python.org/es/3.10/library/os.html ; //micro.recursospython.com\n",
    "# Creamos columna 'year' en el DataFrame con el año de la columna date_time\n",
    "df_mydict['date_time'] = pd.to_datetime(df_mydict['date_time'])\n",
    "df_mydict['year'] = df_mydict['date_time'].dt.year\n",
    "df31 = df_mydict\n",
    "\n",
    "# Analizamos con expresiones regulares las condiciones que nos piden en el\n",
    "# enunciado y creamos DataFrame df32\n",
    "df32 = df_mydict[df_mydict['text'].str.contains(r'\\bE\\w+\\sT\\w+\\b') &\n",
    "                 df_mydict[\n",
    "                      'text'].str.contains(r'\\b[uU]\\w+\\s[fF]\\w+\\s[oO]\\w+\\b')]\n",
    "\n",
    "\n",
    "# Transformamos df32 en un achivo csv y lo descargamos para comprobar en local\n",
    "# los resultados. Hemos subido manualmente el resultado al drive ../data\n",
    "# (dejamos código desactivado)\n",
    "'''\n",
    "df32['text'].to_csv('df32.csv', index=False)\n",
    "files.download('df32.csv')\n",
    "'''\n",
    "\n",
    "# ELiminamos columna 'text' del DataFrame df_mydict\n",
    "df33 = df_mydict.drop(['text'], axis=1)\n",
    "\n",
    "\n",
    "# Creamos la funcion que nos solicitan con los parámetros de ruta y dataframe\n",
    "def crear_tree(root, dataframe):\n",
    "    \"\"\"Esta función recibe como parámetros de entrada una ruta y un dataframe.\n",
    "    La función string desglosará en la ruta indicada un repositorio de\n",
    "    archivos. Este repositorio estará formado por subcarpetas para cada año\n",
    "    donde se haya producido un avistamiento, dentro de la carpeta de cada año\n",
    "    habrá carpetas para todos los estados donde haya habido avistamientos, y\n",
    "    dentro de la carpeta de cada estado tendremos una carpeta para cada ciudad\n",
    "    en la que haya habido avistamientos. Por último, dentro de cada carpeta de\n",
    "    ciudad, habrá un archivo de texto para cada tipo de objeto avistado. Estos\n",
    "     archivos tendrán fromato.txt y en  cada línea de cada fichero aparecerá\n",
    "     la información referente a los siguientes conceptos (separados por punto\n",
    "     y coma \";\" ): summary;date_time;duration;text;city_latitude;\n",
    "     city_longitude\n",
    "    \"\"\"\n",
    "    # Usamos pandas (‘index’ : dict like {index -> {column -> value}}) para\n",
    "    # crear el diccionario a partir del DataFrame de entrada.\n",
    "    dicc = dataframe.to_dict(orient='index')\n",
    "\n",
    "    # Construimos la estructura de ficheros a partir del diccionario\n",
    "    for k, v in dicc.items():\n",
    "        year = str(v['year'])\n",
    "        year_path = os.path.join(root, year)\n",
    "        state = v['state']\n",
    "        state_path = os.path.join(year_path, state)\n",
    "        city = v['city']\n",
    "        city_path = os.path.join(state_path, city)\n",
    "        shape = v['shape']\n",
    "        os.makedirs(city_path, exist_ok=True)\n",
    "\n",
    "    # Ahora creamos los archivos con las lineas separadas por ; de manera que\n",
    "    # si el archivo no existe lo creará, y si existe lo irá completando.\n",
    "        archivo_txt = os.path.join(city_path, f'{shape}.txt')\n",
    "        with open(archivo_txt, 'a') as txt:\n",
    "            no_ignora = []\n",
    "            # excluimos aquellos que no esten presentes en del DataFrame\n",
    "            for k in v.keys():\n",
    "                if k in ['summary', 'date_time', 'duration', 'text',\n",
    "                         'city_latitude', 'city_longitude']:\n",
    "                    no_ignora.append(k)\n",
    "\n",
    "            txt.write(';'.join([f'{v[variable]}'\n",
    "                                for variable in no_ignora]) + '/n')\n",
    "\n",
    "    return dicc\n",
    "\n",
    "\n",
    "# Cambiamos de repositorio antes de lanzar las funciones para que se ejecuten\n",
    "# de manera más rápida, para ello nos vamos a la ruta raiz /content\n",
    "os.chdir(os.path.dirname('/content/'))\n",
    "\n",
    "# Ejecutamos la funcion creada con los dataframes resultado de los\n",
    "# apartados 3.1, 3.2, 3.3\n",
    "Dir_31 = crear_tree('Directorio_df31', df31)\n",
    "Dir_32 = crear_tree('Directorio_df32', df32)\n",
    "Dir_33 = crear_tree('Directorio_df33', df33)\n",
    "\n",
    "\n",
    "# Comprobamos que se han creado los directorios en la ruta raiz /content\n",
    "print(os.listdir())\n",
    "\n",
    "\n",
    "# Vamos a realizar una variante de la función medir_size() que creamos en el\n",
    "# ejercicio 2, de manera que en vez de marcar la ruta a través de un input\n",
    "# lo definimos directamente en el parámetro de entrada de la función. De esta\n",
    "# manera agilizamos el proceso para medir posteriormente los tres directorios\n",
    "# creados en este ejercicio.\n",
    "def medir_size_2(ruta):\n",
    "\n",
    "    \"\"\"Mide el tamaño en Megabytes de un archivo o directorio que se encuentre\n",
    "    en una ruta relativa que pertenezca a la ruta base: \\n\\n\n",
    "    /content/'\n",
    "\n",
    "\n",
    "    La ruta relativa, del archivo o directorio que queremos medir,\n",
    "    la introduciremos como parámetro de entrada en la función.\n",
    "    \"\"\"\n",
    "    ruta_base = os.getcwd()\n",
    "    ruta_abs = os.path.abspath(os.path.join(ruta_base, ruta))\n",
    "    print(ruta_abs)\n",
    "    total_bytes = 0\n",
    "    if os.path.isfile(ruta_abs):\n",
    "        total_bytes = os.stat(ruta_abs).st_size\n",
    "    elif os.path.isdir(ruta_abs):\n",
    "        for dirpath, _, filenames in os.walk(ruta_abs):\n",
    "            for filename in filenames:\n",
    "                filepath = os.path.join(dirpath, filename)\n",
    "                total_bytes += os.stat(filepath).st_size\n",
    "\n",
    "    total_megabytes = round((total_bytes / (1024 * 1024)), 2)\n",
    "    global lista_com\n",
    "    lista_com.append([ruta, total_megabytes])\n",
    "    print(f'Tamaño Megabytes: {total_megabytes} MB; bytes: {total_bytes} B')\n",
    "    return total_megabytes\n",
    "\n",
    "\n",
    "# Medimos y mostramos por pantalla el tamaño de los tres directorios creados.\n",
    "# Guardamos los resultados en las variables \"size_31\", \"size_32\", \"size_33\"\n",
    "\n",
    "size_31 = medir_size_2('Directorio_df31')\n",
    "size_32 = medir_size_2('Directorio_df32')\n",
    "size_33 = medir_size_2('Directorio_df33')\n",
    "\n",
    "# Test Cell, public\n",
    "assert len(df32) < 30, \"Too many entries\""
   ]
  },
  {
   "cell_type": "markdown",
   "metadata": {
    "id": "tNm6dPSW2WNW"
   },
   "source": [
    "\n",
    "\n",
    "Como podemos ver el tamaño de las tres carpetas es:\n",
    "- *Directorio df31* = **1003.66 MB**\n",
    "- *Directorio df32* = **0.26 MB**\n",
    "- *Directorio df3*3 = **124.37 MB**\n",
    "\n",
    "Mientras que el tamaño de la carpeta 'original' descomprimida es:\n",
    "\n",
    "- *Según función apartado 2.1* = **111.42 MB**\n",
    "- *Según nuestro SO* = **205 MB**\n",
    "\n",
    "Como podemos observar, la diferencia entre Directorio df31 y la carpeta\n",
    "'original' es bastante notable. Esto se debe a los métodos de descompresión que hemos utilizado. Dependiendo de cada método utilizado para desocmprimir\n",
    "los archivos, podemos afectar al tamaño final.\n",
    "\n"
   ]
  }
 ],
 "metadata": {
  "colab": {
   "provenance": []
  },
  "kernelspec": {
   "display_name": "Python 3 (ipykernel)",
   "language": "python",
   "name": "python3"
  },
  "language_info": {
   "codemirror_mode": {
    "name": "ipython",
    "version": 3
   },
   "file_extension": ".py",
   "mimetype": "text/x-python",
   "name": "python",
   "nbconvert_exporter": "python",
   "pygments_lexer": "ipython3",
   "version": "3.11.5"
  },
  "latex_envs": {
   "LaTeX_envs_menu_present": true,
   "autoclose": false,
   "autocomplete": true,
   "bibliofile": "biblio.bib",
   "cite_by": "apalike",
   "current_citInitial": 1,
   "eqLabelWithNumbers": true,
   "eqNumInitial": 1,
   "hotkeys": {
    "equation": "Ctrl-E",
    "itemize": "Ctrl-I"
   },
   "labels_anchors": false,
   "latex_user_defs": false,
   "report_style_numbering": false,
   "user_envs_cfg": false
  },
  "nbTranslate": {
   "displayLangs": [
    "es"
   ],
   "hotkey": "alt-t",
   "langInMainMenu": true,
   "sourceLang": "ca",
   "targetLang": "es",
   "useGoogleTranslate": true
  }
 },
 "nbformat": 4,
 "nbformat_minor": 1
}
